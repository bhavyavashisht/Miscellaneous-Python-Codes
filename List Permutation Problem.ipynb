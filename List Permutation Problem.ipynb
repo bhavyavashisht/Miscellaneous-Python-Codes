{
 "cells": [
  {
   "cell_type": "markdown",
   "metadata": {},
   "source": [
    "# Lists Permutation Problem"
   ]
  },
  {
   "cell_type": "markdown",
   "metadata": {},
   "source": [
    "Bhavya Vashisht\n",
    "\n",
    "Write a Python function that accepts as input a list of lists and returns a new list of lists where each list in the output is a combination of elements from the input lists. For example, if you were passed:\n",
    "\n",
    "[['a', 'b'], ['c'], ['d', 'e', 'f']]\n",
    "\n",
    "The resulting list would be:\n",
    "\n",
    "[['a', 'c', 'd'], ['a', 'c', 'e'], ['a', 'c', 'f'], ['b', 'c', 'd'], ['b', 'c', 'e'], ['b', 'c', 'f']]\n",
    "\n",
    "Do not make any assumptions about the number of lists, the number of element per list, or the uniqueness or data type of the list's contents."
   ]
  },
  {
   "cell_type": "code",
   "execution_count": 209,
   "metadata": {
    "collapsed": true
   },
   "outputs": [],
   "source": [
    "# importing libraries\n",
    "import numpy as np\n",
    "import copy as cp"
   ]
  },
  {
   "cell_type": "code",
   "execution_count": 210,
   "metadata": {},
   "outputs": [
    {
     "name": "stdout",
     "output_type": "stream",
     "text": [
      "Number of lists you want to add: 4\n",
      "1 2 3 4\n",
      "A B C\n",
      "! @ # $ %\n",
      "X Y\n",
      "You have entered  4  list(s) of lengths  [4, 3, 5, 2]\n"
     ]
    }
   ],
   "source": [
    "# accepting the input\n",
    "n = int(input('Number of lists you want to add: '))\n",
    "lol = []\n",
    "length = []\n",
    "for i in range(0,n):\n",
    "    lol.append([x for x in input().split()])\n",
    "for i in range(0,n):\n",
    "    length.append(len(lol[i]))\n",
    "print(\"You have entered \",n,\" list(s) of lengths \",length)"
   ]
  },
  {
   "cell_type": "code",
   "execution_count": 219,
   "metadata": {
    "collapsed": true
   },
   "outputs": [],
   "source": [
    "# defining a recursive function to create lists\n",
    "results = []\n",
    "def permutations(lol,i,cur_list,n): # the function takes in arguments of the list of list, intializing index, current list and number of lists\n",
    "    if cur_list == []: # checking if this is the initializing condition\n",
    "        for j in range(0,len(lol[i])):\n",
    "            cur_list.append(lol[i][j])\n",
    "        permutations(lol,i+1,cur_list,n)\n",
    "    elif i==n: # checking for terminal condition\n",
    "        if(cur_list not in results): # stores only the unique value for each combination\n",
    "            results.append(cur_list)\n",
    "    else:\n",
    "        for j in range(0,len(cur_list)): # recursive function calls itself until it exhausts all lists\n",
    "            for k in range(0, len(lol[i])):\n",
    "                b=[]\n",
    "                if (i == 1):\n",
    "                    b.append(cur_list[j])\n",
    "                else:\n",
    "                    b=cp.copy(cur_list)\n",
    "                b.append(lol[i][k])\n",
    "                permutations(lol,i+1,b,n)"
   ]
  },
  {
   "cell_type": "code",
   "execution_count": 220,
   "metadata": {
    "collapsed": true
   },
   "outputs": [],
   "source": [
    "# running the code\n",
    "cur_list = []\n",
    "permutations(lol,0,cur_list,n)"
   ]
  },
  {
   "cell_type": "code",
   "execution_count": 221,
   "metadata": {},
   "outputs": [
    {
     "name": "stdout",
     "output_type": "stream",
     "text": [
      "The possible combination using each element of the list are:\n",
      " [['1', 'A', '!', 'X'], ['1', 'A', '!', 'Y'], ['1', 'A', '@', 'X'], ['1', 'A', '@', 'Y'], ['1', 'A', '#', 'X'], ['1', 'A', '#', 'Y'], ['1', 'A', '$', 'X'], ['1', 'A', '$', 'Y'], ['1', 'A', '%', 'X'], ['1', 'A', '%', 'Y'], ['1', 'B', '!', 'X'], ['1', 'B', '!', 'Y'], ['1', 'B', '@', 'X'], ['1', 'B', '@', 'Y'], ['1', 'B', '#', 'X'], ['1', 'B', '#', 'Y'], ['1', 'B', '$', 'X'], ['1', 'B', '$', 'Y'], ['1', 'B', '%', 'X'], ['1', 'B', '%', 'Y'], ['1', 'C', '!', 'X'], ['1', 'C', '!', 'Y'], ['1', 'C', '@', 'X'], ['1', 'C', '@', 'Y'], ['1', 'C', '#', 'X'], ['1', 'C', '#', 'Y'], ['1', 'C', '$', 'X'], ['1', 'C', '$', 'Y'], ['1', 'C', '%', 'X'], ['1', 'C', '%', 'Y'], ['2', 'A', '!', 'X'], ['2', 'A', '!', 'Y'], ['2', 'A', '@', 'X'], ['2', 'A', '@', 'Y'], ['2', 'A', '#', 'X'], ['2', 'A', '#', 'Y'], ['2', 'A', '$', 'X'], ['2', 'A', '$', 'Y'], ['2', 'A', '%', 'X'], ['2', 'A', '%', 'Y'], ['2', 'B', '!', 'X'], ['2', 'B', '!', 'Y'], ['2', 'B', '@', 'X'], ['2', 'B', '@', 'Y'], ['2', 'B', '#', 'X'], ['2', 'B', '#', 'Y'], ['2', 'B', '$', 'X'], ['2', 'B', '$', 'Y'], ['2', 'B', '%', 'X'], ['2', 'B', '%', 'Y'], ['2', 'C', '!', 'X'], ['2', 'C', '!', 'Y'], ['2', 'C', '@', 'X'], ['2', 'C', '@', 'Y'], ['2', 'C', '#', 'X'], ['2', 'C', '#', 'Y'], ['2', 'C', '$', 'X'], ['2', 'C', '$', 'Y'], ['2', 'C', '%', 'X'], ['2', 'C', '%', 'Y'], ['3', 'A', '!', 'X'], ['3', 'A', '!', 'Y'], ['3', 'A', '@', 'X'], ['3', 'A', '@', 'Y'], ['3', 'A', '#', 'X'], ['3', 'A', '#', 'Y'], ['3', 'A', '$', 'X'], ['3', 'A', '$', 'Y'], ['3', 'A', '%', 'X'], ['3', 'A', '%', 'Y'], ['3', 'B', '!', 'X'], ['3', 'B', '!', 'Y'], ['3', 'B', '@', 'X'], ['3', 'B', '@', 'Y'], ['3', 'B', '#', 'X'], ['3', 'B', '#', 'Y'], ['3', 'B', '$', 'X'], ['3', 'B', '$', 'Y'], ['3', 'B', '%', 'X'], ['3', 'B', '%', 'Y'], ['3', 'C', '!', 'X'], ['3', 'C', '!', 'Y'], ['3', 'C', '@', 'X'], ['3', 'C', '@', 'Y'], ['3', 'C', '#', 'X'], ['3', 'C', '#', 'Y'], ['3', 'C', '$', 'X'], ['3', 'C', '$', 'Y'], ['3', 'C', '%', 'X'], ['3', 'C', '%', 'Y'], ['4', 'A', '!', 'X'], ['4', 'A', '!', 'Y'], ['4', 'A', '@', 'X'], ['4', 'A', '@', 'Y'], ['4', 'A', '#', 'X'], ['4', 'A', '#', 'Y'], ['4', 'A', '$', 'X'], ['4', 'A', '$', 'Y'], ['4', 'A', '%', 'X'], ['4', 'A', '%', 'Y'], ['4', 'B', '!', 'X'], ['4', 'B', '!', 'Y'], ['4', 'B', '@', 'X'], ['4', 'B', '@', 'Y'], ['4', 'B', '#', 'X'], ['4', 'B', '#', 'Y'], ['4', 'B', '$', 'X'], ['4', 'B', '$', 'Y'], ['4', 'B', '%', 'X'], ['4', 'B', '%', 'Y'], ['4', 'C', '!', 'X'], ['4', 'C', '!', 'Y'], ['4', 'C', '@', 'X'], ['4', 'C', '@', 'Y'], ['4', 'C', '#', 'X'], ['4', 'C', '#', 'Y'], ['4', 'C', '$', 'X'], ['4', 'C', '$', 'Y'], ['4', 'C', '%', 'X'], ['4', 'C', '%', 'Y']]\n"
     ]
    }
   ],
   "source": [
    "# results\n",
    "print('The possible combination using each element of the list are:\\n',results)"
   ]
  }
 ],
 "metadata": {
  "kernelspec": {
   "display_name": "Python 3",
   "language": "python",
   "name": "python3"
  },
  "language_info": {
   "codemirror_mode": {
    "name": "ipython",
    "version": 3
   },
   "file_extension": ".py",
   "mimetype": "text/x-python",
   "name": "python",
   "nbconvert_exporter": "python",
   "pygments_lexer": "ipython3",
   "version": "3.6.1"
  }
 },
 "nbformat": 4,
 "nbformat_minor": 2
}
