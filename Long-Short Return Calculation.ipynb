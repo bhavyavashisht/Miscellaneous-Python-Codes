{
 "cells": [
  {
   "cell_type": "markdown",
   "metadata": {},
   "source": [
    "# Long-Short Return Calculation"
   ]
  },
  {
   "cell_type": "markdown",
   "metadata": {},
   "source": [
    "We are calculating the returns of a 130:30 long-short strategy on 30 selected stocks on the basis historical prices."
   ]
  },
  {
   "cell_type": "code",
   "execution_count": 33,
   "metadata": {},
   "outputs": [
    {
     "name": "stdout",
     "output_type": "stream",
     "text": [
      "Libraries uploaded.\n"
     ]
    }
   ],
   "source": [
    "# importing the library\n",
    "import datetime as dt\n",
    "import numpy as np\n",
    "import pandas as pd\n",
    "import matplotlib.pyplot as plt\n",
    "print('Libraries uploaded.')"
   ]
  },
  {
   "cell_type": "code",
   "execution_count": 34,
   "metadata": {},
   "outputs": [
    {
     "name": "stdout",
     "output_type": "stream",
     "text": [
      "Functions defined.\n"
     ]
    }
   ],
   "source": [
    "# defining relevant functions\n",
    "def firstday(temp):\n",
    "    return temp.head(1).index\n",
    "\n",
    "def lastday(temp):\n",
    "    return temp.tail(1).index\n",
    "\n",
    "def numdays(i, j):\n",
    "    if(i in {1, 3, 5, 7, 8, 10, 12}):\n",
    "        return 31\n",
    "    elif(i in {4, 6, 9, 11}):\n",
    "        return 30\n",
    "    elif(i == 2):\n",
    "        if(j%100 == 0):\n",
    "            if(j%400 == 0):\n",
    "                return 29\n",
    "            else:\n",
    "                return 28\n",
    "        elif((j%100 != 0) and (j%4 == 0)):\n",
    "            return 29\n",
    "        else:\n",
    "            return 28\n",
    "print('Functions defined.')"
   ]
  },
  {
   "cell_type": "code",
   "execution_count": 35,
   "metadata": {},
   "outputs": [
    {
     "name": "stdout",
     "output_type": "stream",
     "text": [
      "Data imported.\n"
     ]
    }
   ],
   "source": [
    "# importing data\n",
    "aapl = pd.read_csv('AAPL.csv')\n",
    "abt = pd.read_csv('ABT.csv')\n",
    "apd = pd.read_csv('APD.csv')\n",
    "axp = pd.read_csv('AXP.csv')\n",
    "bac = pd.read_csv('BAC.csv')\n",
    "bax = pd.read_csv('BAX.csv')\n",
    "bdx = pd.read_csv('BDX.csv')\n",
    "cag = pd.read_csv('CAG.csv')\n",
    "cms = pd.read_csv('CMS.csv')\n",
    "cnp = pd.read_csv('CNP.csv')\n",
    "cost = pd.read_csv('COST.csv')\n",
    "gis = pd.read_csv('GIS.csv')\n",
    "gps = pd.read_csv('GPS.csv')\n",
    "has = pd.read_csv('HAS.csv')\n",
    "hes = pd.read_csv('HES.csv')\n",
    "hrb = pd.read_csv('HRB.csv')\n",
    "intc = pd.read_csv('INTC.csv')\n",
    "jnj = pd.read_csv('JNJ.csv')\n",
    "jpm = pd.read_csv('JPM.csv')\n",
    "jwn = pd.read_csv('JWN.csv')\n",
    "lmt = pd.read_csv('LMT.csv')\n",
    "mat = pd.read_csv('MAT.csv')\n",
    "msft = pd.read_csv('MSFT.csv')\n",
    "mu = pd.read_csv('MU.csv')\n",
    "oxy = pd.read_csv('OXY.csv')\n",
    "px = pd.read_csv('PX.csv')\n",
    "rtn = pd.read_csv('RTN.csv')\n",
    "t = pd.read_csv('T.csv')\n",
    "vz = pd.read_csv('VZ.csv')\n",
    "wmt = pd.read_csv('WMT.csv')\n",
    "print('Data imported.')"
   ]
  },
  {
   "cell_type": "code",
   "execution_count": 36,
   "metadata": {},
   "outputs": [
    {
     "name": "stdout",
     "output_type": "stream",
     "text": [
      "Lists created.\n"
     ]
    }
   ],
   "source": [
    "# making lists of stock prices and names\n",
    "order = [aapl, msft, mat, has, gps, jwn, gis, cag, wmt, cost, oxy, hes, jpm, bac, axp, hrb, abt, jnj, bax, bdx, lmt, rtn, intc, mu, apd, px, t, vz, cnp, cms]\n",
    "ord_list = ['aapl', 'msft', 'mat', 'has', 'gps', 'jwn', 'gis', 'cag', 'wmt', 'cost', 'oxy', 'hes', 'jpm', 'bac', 'axp', 'hrb', 'abt', 'jnj', 'bax', 'bdx', 'lmt', 'rtn', 'intc', 'mu', 'apd', 'px', 't', 'vz', 'cnp', 'cms']\n",
    "print('Lists created.')"
   ]
  },
  {
   "cell_type": "code",
   "execution_count": 37,
   "metadata": {},
   "outputs": [
    {
     "name": "stdout",
     "output_type": "stream",
     "text": [
      "Price master created.\n"
     ]
    }
   ],
   "source": [
    "# creating price master\n",
    "prices = pd.DataFrame()\n",
    "prices['Date'] = order[0]['Date']\n",
    "prices['Date'] = pd.to_datetime(prices['Date'])\n",
    "for i in range(30):\n",
    "    prices = pd.concat([prices, order[i]['Adj Close']], axis = 1)\n",
    "    prices = prices.rename(columns = {'Adj Close' : ord_list[i]})\n",
    "prices = prices.set_index('Date')\n",
    "print('Price master created.')"
   ]
  },
  {
   "cell_type": "code",
   "execution_count": 38,
   "metadata": {},
   "outputs": [
    {
     "name": "stdout",
     "output_type": "stream",
     "text": [
      "Strategy matrix created.\n"
     ]
    }
   ],
   "source": [
    "# importing the long-short strategy\n",
    "strategy = pd.read_csv('Decisions11.csv')\n",
    "strategy = strategy.rename(columns = {'Unnamed: 0' : 'Date'})\n",
    "strategy = strategy.set_index('Date')\n",
    "strategy = strategy.values\n",
    "print('Strategy matrix created.')"
   ]
  },
  {
   "cell_type": "code",
   "execution_count": 39,
   "metadata": {},
   "outputs": [
    {
     "name": "stdout",
     "output_type": "stream",
     "text": [
      "Initial portfolio calculated.\n"
     ]
    },
    {
     "name": "stderr",
     "output_type": "stream",
     "text": [
      "C:\\Users\\Bhavya\\Anaconda3\\lib\\site-packages\\ipykernel_launcher.py:7: DeprecationWarning: \n",
      ".ix is deprecated. Please use\n",
      ".loc for label based indexing or\n",
      ".iloc for positional indexing\n",
      "\n",
      "See the documentation here:\n",
      "http://pandas.pydata.org/pandas-docs/stable/indexing.html#ix-indexer-is-deprecated\n",
      "  import sys\n"
     ]
    }
   ],
   "source": [
    "# calculating the starting portfolio\n",
    "mon = 0\n",
    "long = 1.3\n",
    "short = -0.3\n",
    "portfolio = 15000000\n",
    "shares = np.zeros(30)\n",
    "temp = prices.ix[dt.date(year = 1997, month = 12,day = 1):dt.date(year = 1997, month = 12, day = 31)]\n",
    "cur_prices = prices.ix[dt.date(year = lastday(temp).year[0], month = lastday(temp).month[0], day = lastday(temp).day[0])]\n",
    "for i in range(30):\n",
    "    if(strategy[mon][i] == 1):\n",
    "        shares[i] = ((portfolio*long)/15)/cur_prices[i]\n",
    "    elif(strategy[mon][i] == -1):\n",
    "        shares[i] = ((portfolio*short)/15)/cur_prices[i]\n",
    "init_shares = shares\n",
    "print('Initial portfolio calculated.')"
   ]
  },
  {
   "cell_type": "code",
   "execution_count": 40,
   "metadata": {},
   "outputs": [
    {
     "name": "stdout",
     "output_type": "stream",
     "text": [
      "1998  year completed.\n",
      "1999  year completed.\n",
      "2000  year completed.\n",
      "2001  year completed.\n",
      "2002  year completed.\n",
      "2003  year completed.\n",
      "2004  year completed.\n",
      "2005  year completed.\n",
      "2006  year completed.\n",
      "2007  year completed.\n",
      "2008  year completed.\n",
      "2009  year completed.\n",
      "2010  year completed.\n",
      "2011  year completed.\n",
      "2012  year completed.\n",
      "2013  year completed.\n",
      "2014  year completed.\n",
      "2015  year completed.\n",
      "2016  year completed.\n",
      "2017  year completed.\n"
     ]
    }
   ],
   "source": [
    "# updating portfolio\n",
    "port_history = []\n",
    "shares_history = []\n",
    "mon = 0\n",
    "for k in range(1998,2018):\n",
    "    for j in range(1,13):\n",
    "        temp = prices.ix[dt.date(year = k, month = j,day = 1):dt.date(year = k, month = j, day = int(numdays(j,k)))]\n",
    "        cur_prices = prices.ix[dt.date(year = lastday(temp).year[0], month = lastday(temp).month[0], day = lastday(temp).day[0])]\n",
    "        capital = shares*cur_prices\n",
    "        port_history.append(capital)\n",
    "        for i in range(30):\n",
    "            if(strategy[mon][i] == 1):\n",
    "                shares[i] = ((sum(capital)*long)/15)/cur_prices[i]\n",
    "            elif(strategy[mon][i] == -1):\n",
    "                shares[i] = ((sum(capital)*short)/15)/cur_prices[i]\n",
    "        mon = mon + 1\n",
    "        shares_history.append(shares)\n",
    "    print(k,' year completed.')"
   ]
  },
  {
   "cell_type": "code",
   "execution_count": 41,
   "metadata": {},
   "outputs": [
    {
     "data": {
      "image/png": "[encoded data removed]",
      "text/plain": [
       "<matplotlib.figure.Figure at 0x189f055b400>"
      ]
     },
     "metadata": {},
     "output_type": "display_data"
    }
   ],
   "source": [
    "# plotting the return\n",
    "l = []\n",
    "for i in range(240):\n",
    "    l.append((sum(port_history[i])))\n",
    "plt.plot(l)\n",
    "plt.show()"
   ]
  }
 ],
 "metadata": {
  "kernelspec": {
   "display_name": "Python 3",
   "language": "python",
   "name": "python3"
  },
  "language_info": {
   "codemirror_mode": {
    "name": "ipython",
    "version": 3
   },
   "file_extension": ".py",
   "mimetype": "text/x-python",
   "name": "python",
   "nbconvert_exporter": "python",
   "pygments_lexer": "ipython3",
   "version": "3.6.1"
  }
 },
 "nbformat": 4,
 "nbformat_minor": 2
}
