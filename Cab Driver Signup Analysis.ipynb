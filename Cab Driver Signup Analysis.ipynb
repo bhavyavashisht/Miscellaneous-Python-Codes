{
 "cells": [
  {
   "cell_type": "code",
   "execution_count": 464,
   "metadata": {
    "colab": {
     "autoexec": {
      "startup": false,
      "wait_interval": 0
     }
    },
    "colab_type": "code",
    "id": "RzdIaY-utLUr"
   },
   "outputs": [
    {
     "name": "stdout",
     "output_type": "stream",
     "text": [
      "Libraries imported.\n"
     ]
    }
   ],
   "source": [
    "# importing libraries\n",
    "import warnings\n",
    "warnings.filterwarnings('ignore')\n",
    "import datetime as dt\n",
    "import numpy as np\n",
    "import pandas as pd\n",
    "import matplotlib.pyplot as plt\n",
    "from sklearn.metrics import confusion_matrix\n",
    "from sklearn import preprocessing\n",
    "from sklearn.model_selection import train_test_split\n",
    "from sklearn.metrics import roc_curve, auc\n",
    "import matplotlib.pyplot as plt\n",
    "import statsmodels.tsa.stattools as sm\n",
    "from statsmodels.graphics.tsaplots import plot_acf\n",
    "from statsmodels.graphics.tsaplots import plot_pacf\n",
    "import statsmodels.tsa.statespace.sarimax as smax\n",
    "print('Libraries imported.')"
   ]
  },
  {
   "cell_type": "code",
   "execution_count": 73,
   "metadata": {},
   "outputs": [
    {
     "data": {
      "text/html": [
       "<div>\n",
       "<style>\n",
       "    .dataframe thead tr:only-child th {\n",
       "        text-align: right;\n",
       "    }\n",
       "\n",
       "    .dataframe thead th {\n",
       "        text-align: left;\n",
       "    }\n",
       "\n",
       "    .dataframe tbody tr th {\n",
       "        vertical-align: top;\n",
       "    }\n",
       "</style>\n",
       "<table border=\"1\" class=\"dataframe\">\n",
       "  <thead>\n",
       "    <tr style=\"text-align: right;\">\n",
       "      <th></th>\n",
       "      <th>id</th>\n",
       "      <th>city_name</th>\n",
       "      <th>signup_os</th>\n",
       "      <th>signup_channel</th>\n",
       "      <th>signup_date</th>\n",
       "      <th>bgc_date</th>\n",
       "      <th>vehicle_added_date</th>\n",
       "      <th>vehicle_make</th>\n",
       "      <th>vehicle_model</th>\n",
       "      <th>vehicle_year</th>\n",
       "      <th>first_completed_date</th>\n",
       "    </tr>\n",
       "  </thead>\n",
       "  <tbody>\n",
       "    <tr>\n",
       "      <th>0</th>\n",
       "      <td>1</td>\n",
       "      <td>Strark</td>\n",
       "      <td>ios web</td>\n",
       "      <td>Paid</td>\n",
       "      <td>1/2/2016</td>\n",
       "      <td>NaN</td>\n",
       "      <td>NaN</td>\n",
       "      <td>NaN</td>\n",
       "      <td>NaN</td>\n",
       "      <td>NaN</td>\n",
       "      <td>NaN</td>\n",
       "    </tr>\n",
       "    <tr>\n",
       "      <th>1</th>\n",
       "      <td>2</td>\n",
       "      <td>Strark</td>\n",
       "      <td>windows</td>\n",
       "      <td>Paid</td>\n",
       "      <td>1/21/2016</td>\n",
       "      <td>NaN</td>\n",
       "      <td>NaN</td>\n",
       "      <td>NaN</td>\n",
       "      <td>NaN</td>\n",
       "      <td>NaN</td>\n",
       "      <td>NaN</td>\n",
       "    </tr>\n",
       "    <tr>\n",
       "      <th>2</th>\n",
       "      <td>3</td>\n",
       "      <td>Wrouver</td>\n",
       "      <td>windows</td>\n",
       "      <td>Organic</td>\n",
       "      <td>1/11/2016</td>\n",
       "      <td>1/11/2016</td>\n",
       "      <td>NaN</td>\n",
       "      <td>NaN</td>\n",
       "      <td>NaN</td>\n",
       "      <td>NaN</td>\n",
       "      <td>NaN</td>\n",
       "    </tr>\n",
       "    <tr>\n",
       "      <th>3</th>\n",
       "      <td>4</td>\n",
       "      <td>Berton</td>\n",
       "      <td>android web</td>\n",
       "      <td>Referral</td>\n",
       "      <td>1/29/2016</td>\n",
       "      <td>2/3/2016</td>\n",
       "      <td>2/3/2016</td>\n",
       "      <td>Toyota</td>\n",
       "      <td>Corolla</td>\n",
       "      <td>2016.0</td>\n",
       "      <td>2/3/2016</td>\n",
       "    </tr>\n",
       "    <tr>\n",
       "      <th>4</th>\n",
       "      <td>5</td>\n",
       "      <td>Strark</td>\n",
       "      <td>android web</td>\n",
       "      <td>Referral</td>\n",
       "      <td>1/10/2016</td>\n",
       "      <td>1/25/2016</td>\n",
       "      <td>1/26/2016</td>\n",
       "      <td>Hyundai</td>\n",
       "      <td>Sonata</td>\n",
       "      <td>2016.0</td>\n",
       "      <td>NaN</td>\n",
       "    </tr>\n",
       "  </tbody>\n",
       "</table>\n",
       "</div>"
      ],
      "text/plain": [
       "   id city_name    signup_os signup_channel signup_date   bgc_date  \\\n",
       "0   1    Strark      ios web           Paid    1/2/2016        NaN   \n",
       "1   2    Strark      windows           Paid   1/21/2016        NaN   \n",
       "2   3   Wrouver      windows        Organic   1/11/2016  1/11/2016   \n",
       "3   4    Berton  android web       Referral   1/29/2016   2/3/2016   \n",
       "4   5    Strark  android web       Referral   1/10/2016  1/25/2016   \n",
       "\n",
       "  vehicle_added_date vehicle_make vehicle_model  vehicle_year  \\\n",
       "0                NaN          NaN           NaN           NaN   \n",
       "1                NaN          NaN           NaN           NaN   \n",
       "2                NaN          NaN           NaN           NaN   \n",
       "3           2/3/2016       Toyota       Corolla        2016.0   \n",
       "4          1/26/2016      Hyundai        Sonata        2016.0   \n",
       "\n",
       "  first_completed_date  \n",
       "0                  NaN  \n",
       "1                  NaN  \n",
       "2                  NaN  \n",
       "3             2/3/2016  \n",
       "4                  NaN  "
      ]
     },
     "execution_count": 73,
     "metadata": {},
     "output_type": "execute_result"
    }
   ],
   "source": [
    "# importing data\n",
    "df = pd.read_csv('data.csv')\n",
    "df.head()"
   ]
  },
  {
   "cell_type": "markdown",
   "metadata": {},
   "source": [
    "THOUGHT: Since there are a lot of missing values here, we need to check the summary of data to see the comprehensiveness of data."
   ]
  },
  {
   "cell_type": "code",
   "execution_count": 74,
   "metadata": {},
   "outputs": [
    {
     "name": "stdout",
     "output_type": "stream",
     "text": [
      "Summary analysis:\n",
      "Number of cities covered:  3\n",
      "Number of sign-ups:  54681\n",
      "Number of background checks completed:  32743\n",
      "Number of vehicles added:  13134\n",
      "Number of actual drivers:  6137\n",
      "\n",
      "Data completeness check:\n",
      "Column  id  is unique.\n",
      "Column  signup_os  blanks:  6857\n",
      "Column  bgc_date  blanks:  21938\n",
      "Column  vehicle_added_date  blanks:  41547\n",
      "Column  vehicle_make  blanks:  41458\n",
      "Column  vehicle_model  blanks:  41458\n",
      "Column  vehicle_year  blanks:  41458\n",
      "Column  first_completed_date  blanks:  48544\n",
      "\n",
      "\n",
      "<class 'pandas.core.frame.DataFrame'>\n",
      "RangeIndex: 54681 entries, 0 to 54680\n",
      "Data columns (total 11 columns):\n",
      "id                      54681 non-null int64\n",
      "city_name               54681 non-null object\n",
      "signup_os               47824 non-null object\n",
      "signup_channel          54681 non-null object\n",
      "signup_date             54681 non-null object\n",
      "bgc_date                32743 non-null object\n",
      "vehicle_added_date      13134 non-null object\n",
      "vehicle_make            13223 non-null object\n",
      "vehicle_model           13223 non-null object\n",
      "vehicle_year            13223 non-null float64\n",
      "first_completed_date    6137 non-null object\n",
      "dtypes: float64(1), int64(1), object(9)\n",
      "memory usage: 4.6+ MB\n"
     ]
    }
   ],
   "source": [
    "# summary analysis\n",
    "print('Summary analysis:')\n",
    "print('Number of cities covered: ',len(df['city_name'].unique()))\n",
    "print('Number of sign-ups: ', len(df['signup_date'].dropna()))\n",
    "print('Number of background checks completed: ', len(df['bgc_date'].dropna()))\n",
    "print('Number of vehicles added: ', len(df['vehicle_added_date'].dropna()))\n",
    "print('Number of actual drivers: ', len(df['first_completed_date'].dropna()))\n",
    "\n",
    "print('\\nData completeness check:')\n",
    "for i in range(len(list(df))):\n",
    "    if(len(df.ix[:,i].unique()) == len(df.ix[:,i])):\n",
    "        print('Column ',list(df)[i],' is unique.')\n",
    "for i in range(len(list(df))):\n",
    "    if(len(df[df.ix[:,i].isnull() == True]) > 0):\n",
    "        print('Column ',list(df)[i],' blanks: ', \\\n",
    "              len(df[df.ix[:,i].isnull() == True]))\n",
    "print('\\n')\n",
    "df.info()"
   ]
  },
  {
   "cell_type": "markdown",
   "metadata": {},
   "source": [
    "THOUGHT: Only 11% of the total drivers which sign-up eventually end up completing the first ride. We need to perform some exploration to check if there are any patterns or anomalies."
   ]
  },
  {
   "cell_type": "code",
   "execution_count": 75,
   "metadata": {},
   "outputs": [
    {
     "name": "stdout",
     "output_type": "stream",
     "text": [
      "Data formatting completed.\n"
     ]
    },
    {
     "data": {
      "text/html": [
       "<div>\n",
       "<style>\n",
       "    .dataframe thead tr:only-child th {\n",
       "        text-align: right;\n",
       "    }\n",
       "\n",
       "    .dataframe thead th {\n",
       "        text-align: left;\n",
       "    }\n",
       "\n",
       "    .dataframe tbody tr th {\n",
       "        vertical-align: top;\n",
       "    }\n",
       "</style>\n",
       "<table border=\"1\" class=\"dataframe\">\n",
       "  <thead>\n",
       "    <tr style=\"text-align: right;\">\n",
       "      <th></th>\n",
       "      <th>id</th>\n",
       "      <th>city_name</th>\n",
       "      <th>signup_os</th>\n",
       "      <th>signup_channel</th>\n",
       "      <th>signup_date</th>\n",
       "      <th>bgc_date</th>\n",
       "      <th>vehicle_added_date</th>\n",
       "      <th>vehicle_make</th>\n",
       "      <th>vehicle_model</th>\n",
       "      <th>vehicle_year</th>\n",
       "      <th>first_completed_date</th>\n",
       "    </tr>\n",
       "  </thead>\n",
       "  <tbody>\n",
       "    <tr>\n",
       "      <th>0</th>\n",
       "      <td>1</td>\n",
       "      <td>Strark</td>\n",
       "      <td>ios web</td>\n",
       "      <td>Paid</td>\n",
       "      <td>2016-01-02</td>\n",
       "      <td>NaT</td>\n",
       "      <td>NaT</td>\n",
       "      <td>NaN</td>\n",
       "      <td>NaN</td>\n",
       "      <td>NaN</td>\n",
       "      <td>NaT</td>\n",
       "    </tr>\n",
       "    <tr>\n",
       "      <th>1</th>\n",
       "      <td>2</td>\n",
       "      <td>Strark</td>\n",
       "      <td>windows</td>\n",
       "      <td>Paid</td>\n",
       "      <td>2016-01-21</td>\n",
       "      <td>NaT</td>\n",
       "      <td>NaT</td>\n",
       "      <td>NaN</td>\n",
       "      <td>NaN</td>\n",
       "      <td>NaN</td>\n",
       "      <td>NaT</td>\n",
       "    </tr>\n",
       "    <tr>\n",
       "      <th>2</th>\n",
       "      <td>3</td>\n",
       "      <td>Wrouver</td>\n",
       "      <td>windows</td>\n",
       "      <td>Organic</td>\n",
       "      <td>2016-01-11</td>\n",
       "      <td>2016-01-11</td>\n",
       "      <td>NaT</td>\n",
       "      <td>NaN</td>\n",
       "      <td>NaN</td>\n",
       "      <td>NaN</td>\n",
       "      <td>NaT</td>\n",
       "    </tr>\n",
       "    <tr>\n",
       "      <th>3</th>\n",
       "      <td>4</td>\n",
       "      <td>Berton</td>\n",
       "      <td>android web</td>\n",
       "      <td>Referral</td>\n",
       "      <td>2016-01-29</td>\n",
       "      <td>2016-02-03</td>\n",
       "      <td>2016-02-03</td>\n",
       "      <td>Toyota</td>\n",
       "      <td>Corolla</td>\n",
       "      <td>2016.0</td>\n",
       "      <td>2016-02-03</td>\n",
       "    </tr>\n",
       "    <tr>\n",
       "      <th>4</th>\n",
       "      <td>5</td>\n",
       "      <td>Strark</td>\n",
       "      <td>android web</td>\n",
       "      <td>Referral</td>\n",
       "      <td>2016-01-10</td>\n",
       "      <td>2016-01-25</td>\n",
       "      <td>2016-01-26</td>\n",
       "      <td>Hyundai</td>\n",
       "      <td>Sonata</td>\n",
       "      <td>2016.0</td>\n",
       "      <td>NaT</td>\n",
       "    </tr>\n",
       "  </tbody>\n",
       "</table>\n",
       "</div>"
      ],
      "text/plain": [
       "   id city_name    signup_os signup_channel signup_date   bgc_date  \\\n",
       "0   1    Strark      ios web           Paid  2016-01-02        NaT   \n",
       "1   2    Strark      windows           Paid  2016-01-21        NaT   \n",
       "2   3   Wrouver      windows        Organic  2016-01-11 2016-01-11   \n",
       "3   4    Berton  android web       Referral  2016-01-29 2016-02-03   \n",
       "4   5    Strark  android web       Referral  2016-01-10 2016-01-25   \n",
       "\n",
       "  vehicle_added_date vehicle_make vehicle_model  vehicle_year  \\\n",
       "0                NaT          NaN           NaN           NaN   \n",
       "1                NaT          NaN           NaN           NaN   \n",
       "2                NaT          NaN           NaN           NaN   \n",
       "3         2016-02-03       Toyota       Corolla        2016.0   \n",
       "4         2016-01-26      Hyundai        Sonata        2016.0   \n",
       "\n",
       "  first_completed_date  \n",
       "0                  NaT  \n",
       "1                  NaT  \n",
       "2                  NaT  \n",
       "3           2016-02-03  \n",
       "4                  NaT  "
      ]
     },
     "execution_count": 75,
     "metadata": {},
     "output_type": "execute_result"
    }
   ],
   "source": [
    "# preparing data for analysis\n",
    "cities = list(df[\"city_name\"].unique())\n",
    "df[\"city_name\"] = df[\"city_name\"].astype(\"category\")\n",
    "df[\"city_name\"].cat.set_categories(cities, inplace=True)\n",
    "\n",
    "df[\"signup_os\"] = df[\"signup_os\"].fillna('missing')\n",
    "signupos = list(df[\"signup_os\"].unique())\n",
    "df[\"signup_os\"] = df[\"signup_os\"].astype(\"category\")\n",
    "df[\"signup_os\"].cat.set_categories(signupos, inplace=True)\n",
    "\n",
    "signupch = list(df[\"signup_channel\"].unique())\n",
    "df[\"signup_channel\"] = df[\"signup_channel\"].astype(\"category\")\n",
    "df[\"signup_channel\"].cat.set_categories(signupch, inplace=True)\n",
    "\n",
    "df['signup_date'] = pd.to_datetime(df['signup_date'])\n",
    "df['bgc_date'] = pd.to_datetime(df['bgc_date'])\n",
    "df['vehicle_added_date'] = pd.to_datetime(df['vehicle_added_date'])\n",
    "df['first_completed_date'] = pd.to_datetime(df['first_completed_date'])\n",
    "print('Data formatting completed.')\n",
    "df.head()"
   ]
  },
  {
   "cell_type": "markdown",
   "metadata": {},
   "source": [
    "THOUGHT: Assuming that the actual driver onboarding process is as follows:<br>\n",
    "Sign-up -> Background check -> Vehicle Addition -> First Trip<br>\n",
    "I wish to check if there is some anomaly from the above process."
   ]
  },
  {
   "cell_type": "code",
   "execution_count": 76,
   "metadata": {},
   "outputs": [
    {
     "name": "stdout",
     "output_type": "stream",
     "text": [
      "Number of drivers who completed background check without sign-up date:  0\n",
      "Number of drivers who completed vehicle addition without background check:  340\n",
      "Number of drivers who completed vehicle addition without sign-up date:  0\n",
      "Number of drivers who completed first trip without vehicle addition:  265\n",
      "Number of drivers who completed first trip without background check:  153\n",
      "Number of drivers who completed first trip without sign-up date:  0\n"
     ]
    }
   ],
   "source": [
    "# anomaly detection\n",
    "print('Number of drivers who completed background check without sign-up date: ', \\\n",
    "      len(df['id'][(df['signup_date'].isnull() == True) & (df[\"bgc_date\"].isnull() == False)]))\n",
    "print('Number of drivers who completed vehicle addition without background check: ', \\\n",
    "      len(df['id'][(df['bgc_date'].isnull() == True) & (df[\"vehicle_added_date\"].isnull() == False)]))\n",
    "print('Number of drivers who completed vehicle addition without sign-up date: ', \\\n",
    "      len(df['id'][(df['signup_date'].isnull() == True) & (df[\"vehicle_added_date\"].isnull() == False)]))\n",
    "print('Number of drivers who completed first trip without vehicle addition: ', \\\n",
    "      len(df['id'][(df['vehicle_added_date'].isnull() == True) & (df[\"first_completed_date\"].isnull() == False)]))\n",
    "print('Number of drivers who completed first trip without background check: ', \\\n",
    "      len(df['id'][(df['bgc_date'].isnull() == True) & (df[\"first_completed_date\"].isnull() == False)]))\n",
    "print('Number of drivers who completed first trip without sign-up date: ', \\\n",
    "      len(df['id'][(df['signup_date'].isnull() == True) & (df[\"first_completed_date\"].isnull() == False)]))"
   ]
  },
  {
   "cell_type": "markdown",
   "metadata": {},
   "source": [
    "THOUGHT: I can either discard these entries or assume that the data is missing. Assuming that the process is being duly followed, the presence of subsequent onboarding dates in absence of the prior dates can only mean I have some missing data. Since the numbers are small, I ignore these for now."
   ]
  },
  {
   "cell_type": "code",
   "execution_count": 77,
   "metadata": {},
   "outputs": [
    {
     "name": "stdout",
     "output_type": "stream",
     "text": [
      "                               id                                              \\\n",
      "signup_os                 ios web windows android web missing     mac   other   \n",
      "city_name signup_channel                                                        \n",
      "Strark    Paid             3858.0  1708.0      4499.0    57.0  1311.0   974.0   \n",
      "          Organic          1814.0   966.0      1529.0  1615.0   929.0   430.0   \n",
      "          Referral         2733.0   690.0      2518.0  2823.0   748.0   355.0   \n",
      "Wrouver   Paid              921.0   491.0       772.0    13.0   271.0   322.0   \n",
      "          Organic           286.0   198.0       205.0   325.0   168.0   121.0   \n",
      "          Referral          351.0   112.0       264.0    13.0    89.0    85.0   \n",
      "Berton    Paid             2944.0  1410.0      2600.0    33.0  1033.0   721.0   \n",
      "          Organic          1427.0   697.0      1052.0   592.0   699.0   374.0   \n",
      "          Referral         2298.0   504.0      1505.0  1386.0   576.0   266.0   \n",
      "All                       16632.0  6776.0     14944.0  6857.0  5824.0  3648.0   \n",
      "\n",
      "                                   \n",
      "signup_os                     All  \n",
      "city_name signup_channel           \n",
      "Strark    Paid            12407.0  \n",
      "          Organic          7283.0  \n",
      "          Referral         9867.0  \n",
      "Wrouver   Paid             2790.0  \n",
      "          Organic          1303.0  \n",
      "          Referral          914.0  \n",
      "Berton    Paid             8741.0  \n",
      "          Organic          4841.0  \n",
      "          Referral         6535.0  \n",
      "All                       54681.0  \n",
      "                  id                 \n",
      "ftc_fac          0.0     1.0      All\n",
      "signup_os                            \n",
      "ios web      14441.0  2191.0  16632.0\n",
      "windows       5878.0   898.0   6776.0\n",
      "android web  13490.0  1454.0  14944.0\n",
      "missing       6709.0   148.0   6857.0\n",
      "mac           4876.0   948.0   5824.0\n",
      "other         3150.0   498.0   3648.0\n",
      "All          48544.0  6137.0  54681.0\n"
     ]
    }
   ],
   "source": [
    "# sign-up OS missing value analysis\n",
    "print(pd.pivot_table(df,index=[\"city_name\", \"signup_channel\"], columns=[\"signup_os\"], \\\n",
    "                     values = [\"id\"], aggfunc = len, margins = True))\n",
    "df.loc[df.first_completed_date.isnull() == True, 'ftc_fac'] = 0\n",
    "df.loc[df.first_completed_date.isnull() == False, 'ftc_fac'] = 1\n",
    "print(pd.pivot_table(df,index=[\"signup_os\"], columns = ['ftc_fac'], values = [\"id\"], aggfunc = len, margins = True))"
   ]
  },
  {
   "cell_type": "markdown",
   "metadata": {},
   "source": [
    "OBSERVATIONS:\n",
    "1. These sign-up OS missing values seem to be occuring across cities and channels.\n",
    "2. Almost 98% of sign-ups with missing OS values do not complete the first trip."
   ]
  },
  {
   "cell_type": "code",
   "execution_count": 78,
   "metadata": {},
   "outputs": [
    {
     "name": "stdout",
     "output_type": "stream",
     "text": [
      "                  id                  \n",
      "bgc_fac          0.0      1.0      All\n",
      "signup_os                             \n",
      "ios web       5882.0  10750.0  16632.0\n",
      "windows       2369.0   4407.0   6776.0\n",
      "android web   5623.0   9321.0  14944.0\n",
      "missing       4865.0   1992.0   6857.0\n",
      "mac           1929.0   3895.0   5824.0\n",
      "other         1270.0   2378.0   3648.0\n",
      "All          21938.0  32743.0  54681.0\n"
     ]
    }
   ],
   "source": [
    "# BGC date missing value analysis\n",
    "df.loc[df.bgc_date.isnull() == True, 'bgc_fac'] = 0\n",
    "df.loc[df.bgc_date.isnull() == False, 'bgc_fac'] = 1\n",
    "print(pd.pivot_table(df,index=[\"signup_os\"], columns = ['bgc_fac'], values = [\"id\"], aggfunc = len, margins = True))"
   ]
  },
  {
   "cell_type": "markdown",
   "metadata": {},
   "source": [
    "OBSERVATION: \n",
    "1. Majority of the missing OS value also do not have BGC values."
   ]
  },
  {
   "cell_type": "code",
   "execution_count": 79,
   "metadata": {},
   "outputs": [
    {
     "data": {
      "text/plain": [
       "<matplotlib.figure.Figure at 0x1863e871080>"
      ]
     },
     "metadata": {},
     "output_type": "display_data"
    },
    {
     "data": {
      "image/png": "[encoded data removed]",
      "text/plain": [
       "<matplotlib.figure.Figure at 0x1863e871a20>"
      ]
     },
     "metadata": {},
     "output_type": "display_data"
    }
   ],
   "source": [
    "# trending the number of drivers\n",
    "f = plt.figure()\n",
    "f, axarr = plt.subplots(2, 2, figsize=(15,15))\n",
    "\n",
    "date = list(df.groupby('signup_date').groups.keys())\n",
    "su = df.groupby(['signup_date'])['id'].count()\n",
    "axarr[0, 0].bar(date, su)\n",
    "axarr[0, 0].set_title('Sign-ups')\n",
    "axarr[0, 0].set_xlabel('Dates')\n",
    "axarr[0, 0].set_ylabel('Number of drivers')\n",
    "\n",
    "date = list(df.groupby('bgc_date').groups.keys())\n",
    "bgc = df.groupby(['bgc_date'])['id'].count()\n",
    "axarr[0, 1].bar(date, bgc)\n",
    "axarr[0, 1].set_title('Background checks')\n",
    "axarr[0, 1].set_xlabel('Dates')\n",
    "axarr[0, 1].set_ylabel('Number of drivers')\n",
    "\n",
    "date = list(df.groupby('vehicle_added_date').groups.keys())\n",
    "v_add = df.groupby(['vehicle_added_date'])['id'].count()\n",
    "axarr[1, 0].bar(date, v_add)\n",
    "axarr[1, 0].set_title('Vehicle Additions')\n",
    "axarr[1, 0].set_xlabel('Dates')\n",
    "axarr[1, 0].set_ylabel('Number of drivers')\n",
    "\n",
    "date = list(df.groupby('first_completed_date').groups.keys())\n",
    "comp = df.groupby(['first_completed_date'])['id'].count()\n",
    "axarr[1, 1].bar(date, comp)\n",
    "axarr[1, 1].set_title('Completions')\n",
    "axarr[1, 1].set_xlabel('Dates')\n",
    "axarr[1, 1].set_ylabel('Number of drivers')\n",
    "\n",
    "f.subplots_adjust(hspace = 0.3)\n",
    "\n",
    "for i in range(2):\n",
    "    for j in range(2):\n",
    "        plt.setp(axarr[i, j].get_xticklabels(), rotation = 60, horizontalalignment = 'center')\n",
    "plt.show()"
   ]
  },
  {
   "cell_type": "markdown",
   "metadata": {},
   "source": [
    "OBSERVATIONS -\n",
    "1. The sign-ups show a strong weekly dip on the weekends.\n",
    "2. Most of the background checks have been completed by mid-February 2016\n",
    "3. Vehicle additions almost dropped to zero in March 2016 (may indicate incomplete data or change in policy)"
   ]
  },
  {
   "cell_type": "code",
   "execution_count": 64,
   "metadata": {},
   "outputs": [
    {
     "data": {
      "image/png": "[encoded data removed]",
      "text/plain": [
       "<matplotlib.figure.Figure at 0x1863dd62be0>"
      ]
     },
     "metadata": {},
     "output_type": "display_data"
    }
   ],
   "source": [
    "# checking channel-wise sign-ups across cities\n",
    "table = pd.pivot_table(df,index=['city_name', \"signup_channel\"], columns = ['signup_date'], \\\n",
    "                       values = [\"id\"], aggfunc = len, margins = True)\n",
    "mat = table.as_matrix(columns=None)\n",
    "mat = np.delete(mat, 30, 1)\n",
    "strark = np.zeros((3,30))\n",
    "wrouver = np.zeros((3,30))\n",
    "berton = np.zeros((3,30))\n",
    "date = list(df.groupby('signup_date').groups.keys())\n",
    "width = 0.35\n",
    "\n",
    "for i in range(9):\n",
    "    if(i < 3):\n",
    "        strark[i] = mat[i]\n",
    "    elif((i >= 3) and (i < 6)):\n",
    "        wrouver[i - 3] = mat[i]\n",
    "    elif((i >= 6) and (i < 9)):\n",
    "        berton[i - 6] = mat[i]\n",
    "\n",
    "f = plt.figure(figsize = (15,15))\n",
    "ax1 = f.add_subplot(311)\n",
    "p1 = plt.bar(np.arange(30), list(strark[0,]), width)\n",
    "p2 = plt.bar(np.arange(30), list(strark[1,]), width, bottom = list(strark[0,]))\n",
    "p3 = plt.bar(np.arange(30), list(strark[2,]), width, bottom = list(strark[0,] + strark[1,]))\n",
    "ax1.set_title('Driver sign-ups by channel for Strark')\n",
    "ax1.set_xlabel('Dates')\n",
    "ax1.set_ylabel('Number of drivers')\n",
    "ax1.legend((p1[0], p2[0], p3[0]), ('Paid', 'Organic', 'Referral'))\n",
    "\n",
    "ax2 = f.add_subplot(312)\n",
    "p4 = plt.bar(np.arange(30), list(wrouver[0,]), width)\n",
    "p5 = plt.bar(np.arange(30), list(wrouver[1,]), width, bottom = list(wrouver[0,]))\n",
    "p6 = plt.bar(np.arange(30), list(wrouver[2,]), width, bottom = list(wrouver[0,] + wrouver[1,]))\n",
    "ax2.set_title('Driver sign-ups by channel for Wrouver')\n",
    "ax2.set_xlabel('Dates')\n",
    "ax2.set_ylabel('Number of drivers')\n",
    "\n",
    "ax3 = f.add_subplot(313)\n",
    "p7 = plt.bar(np.arange(30), list(berton[0,]), width)\n",
    "p8 = plt.bar(np.arange(30), list(berton[1,]), width, bottom = list(berton[0,]))\n",
    "p9 = plt.bar(np.arange(30), list(berton[2,]), width, bottom = list(berton[0,] + berton[1,]))\n",
    "ax3.set_title('Driver sign-ups by channel for Berton')\n",
    "ax3.set_xlabel('Dates')\n",
    "ax3.set_ylabel('Number of drivers')\n",
    "\n",
    "\n",
    "f.subplots_adjust(hspace = 0.45)\n",
    "plt.show()"
   ]
  },
  {
   "cell_type": "markdown",
   "metadata": {
    "collapsed": true
   },
   "source": [
    "OBSERVATION: \n",
    "1. On 4th and 5th of January 2016, there is an increase in Referral channel sign-ups in Strark and Berton. This may be due to a marketing campaign. \n",
    "2. Apart from some expected deviations (like spike in driver sign-up on New Year's Day and the weekly trend mentioned before), the constribution of every channel is roughly constant.\n",
    "\n"
   ]
  },
  {
   "cell_type": "markdown",
   "metadata": {},
   "source": [
    "On the basis of the given data, the baseline model would predict that no driver would complete the first trip.<br>\n",
    "The accuracy of this can be calculated as:<br>\n",
    "Accuracy = (54681 - 6137)/54681 = 88.78%"
   ]
  },
  {
   "cell_type": "markdown",
   "metadata": {},
   "source": [
    "A simple SVM model with factors derived from 'city_name', 'signup_os', 'signup_channel' , 'bgc_date' and 'vehicle_added_date' was found to beat the baseline model in accuracy, but we can't use all these factors because of two reasons:\n",
    "1. Many of these factors are unknown to us at the time of sign-up.\n",
    "2. Many of these factors have null values for more than half the data, which makes them useless by themselves."
   ]
  },
  {
   "cell_type": "markdown",
   "metadata": {},
   "source": [
    "Also, considering the class imbalance in the dataset and the objective of finding the drivers who will perform the first trip, I believe we should focus our attention on the TPR or the Sensitivity.<br>\n",
    "In the above naive model, TPR = 0."
   ]
  },
  {
   "cell_type": "markdown",
   "metadata": {},
   "source": [
    "Assuming that we only have visibility of the date, OS, channel and city at the time of sign-up, we will try to predict if the driver will complete the background check on the basis of these. This automatically discards 'vehicle_make', 'vehicle_model' and 'vehicle_year' as we apparently do not have that information at the time of sign-up."
   ]
  },
  {
   "cell_type": "markdown",
   "metadata": {},
   "source": [
    "We will convert 'city_name', 'signup_os' and 'signup_channel' to factors before running models to imply there is no order or \"distance\" between discrete categories of each of these columns."
   ]
  },
  {
   "cell_type": "code",
   "execution_count": 122,
   "metadata": {
    "colab": {
     "autoexec": {
      "startup": false,
      "wait_interval": 0
     }
    },
    "colab_type": "code",
    "id": "3b1C-jaktOhM"
   },
   "outputs": [
    {
     "data": {
      "text/html": [
       "<div>\n",
       "<style>\n",
       "    .dataframe thead tr:only-child th {\n",
       "        text-align: right;\n",
       "    }\n",
       "\n",
       "    .dataframe thead th {\n",
       "        text-align: left;\n",
       "    }\n",
       "\n",
       "    .dataframe tbody tr th {\n",
       "        vertical-align: top;\n",
       "    }\n",
       "</style>\n",
       "<table border=\"1\" class=\"dataframe\">\n",
       "  <thead>\n",
       "    <tr style=\"text-align: right;\">\n",
       "      <th></th>\n",
       "      <th>bgc_fac</th>\n",
       "      <th>Strark</th>\n",
       "      <th>Wrouver</th>\n",
       "      <th>Berton</th>\n",
       "      <th>ios web</th>\n",
       "      <th>windows</th>\n",
       "      <th>android web</th>\n",
       "      <th>missing</th>\n",
       "      <th>mac</th>\n",
       "      <th>other</th>\n",
       "      <th>Paid</th>\n",
       "      <th>Organic</th>\n",
       "      <th>Referral</th>\n",
       "      <th>dayofweek</th>\n",
       "    </tr>\n",
       "  </thead>\n",
       "  <tbody>\n",
       "    <tr>\n",
       "      <th>0</th>\n",
       "      <td>0.0</td>\n",
       "      <td>1</td>\n",
       "      <td>0</td>\n",
       "      <td>0</td>\n",
       "      <td>1</td>\n",
       "      <td>0</td>\n",
       "      <td>0</td>\n",
       "      <td>0</td>\n",
       "      <td>0</td>\n",
       "      <td>0</td>\n",
       "      <td>1</td>\n",
       "      <td>0</td>\n",
       "      <td>0</td>\n",
       "      <td>5</td>\n",
       "    </tr>\n",
       "    <tr>\n",
       "      <th>1</th>\n",
       "      <td>0.0</td>\n",
       "      <td>1</td>\n",
       "      <td>0</td>\n",
       "      <td>0</td>\n",
       "      <td>0</td>\n",
       "      <td>1</td>\n",
       "      <td>0</td>\n",
       "      <td>0</td>\n",
       "      <td>0</td>\n",
       "      <td>0</td>\n",
       "      <td>1</td>\n",
       "      <td>0</td>\n",
       "      <td>0</td>\n",
       "      <td>3</td>\n",
       "    </tr>\n",
       "    <tr>\n",
       "      <th>2</th>\n",
       "      <td>1.0</td>\n",
       "      <td>0</td>\n",
       "      <td>1</td>\n",
       "      <td>0</td>\n",
       "      <td>0</td>\n",
       "      <td>1</td>\n",
       "      <td>0</td>\n",
       "      <td>0</td>\n",
       "      <td>0</td>\n",
       "      <td>0</td>\n",
       "      <td>0</td>\n",
       "      <td>1</td>\n",
       "      <td>0</td>\n",
       "      <td>0</td>\n",
       "    </tr>\n",
       "    <tr>\n",
       "      <th>3</th>\n",
       "      <td>1.0</td>\n",
       "      <td>0</td>\n",
       "      <td>0</td>\n",
       "      <td>1</td>\n",
       "      <td>0</td>\n",
       "      <td>0</td>\n",
       "      <td>1</td>\n",
       "      <td>0</td>\n",
       "      <td>0</td>\n",
       "      <td>0</td>\n",
       "      <td>0</td>\n",
       "      <td>0</td>\n",
       "      <td>1</td>\n",
       "      <td>4</td>\n",
       "    </tr>\n",
       "    <tr>\n",
       "      <th>4</th>\n",
       "      <td>1.0</td>\n",
       "      <td>1</td>\n",
       "      <td>0</td>\n",
       "      <td>0</td>\n",
       "      <td>0</td>\n",
       "      <td>0</td>\n",
       "      <td>1</td>\n",
       "      <td>0</td>\n",
       "      <td>0</td>\n",
       "      <td>0</td>\n",
       "      <td>0</td>\n",
       "      <td>0</td>\n",
       "      <td>1</td>\n",
       "      <td>6</td>\n",
       "    </tr>\n",
       "  </tbody>\n",
       "</table>\n",
       "</div>"
      ],
      "text/plain": [
       "   bgc_fac  Strark  Wrouver  Berton  ios web  windows  android web  missing  \\\n",
       "0      0.0       1        0       0        1        0            0        0   \n",
       "1      0.0       1        0       0        0        1            0        0   \n",
       "2      1.0       0        1       0        0        1            0        0   \n",
       "3      1.0       0        0       1        0        0            1        0   \n",
       "4      1.0       1        0       0        0        0            1        0   \n",
       "\n",
       "   mac  other  Paid  Organic  Referral dayofweek  \n",
       "0    0      0     1        0         0         5  \n",
       "1    0      0     1        0         0         3  \n",
       "2    0      0     0        1         0         0  \n",
       "3    0      0     0        0         1         4  \n",
       "4    0      0     0        0         1         6  "
      ]
     },
     "execution_count": 122,
     "metadata": {},
     "output_type": "execute_result"
    }
   ],
   "source": [
    "# creating feature table for classification\n",
    "feat_table = df.copy() \n",
    "feat_table['dayofweek'] = feat_table['signup_date'].dt.dayofweek\n",
    "dayofweek = list(feat_table[\"dayofweek\"].unique())\n",
    "feat_table[\"dayofweek\"] = feat_table[\"dayofweek\"].astype(\"category\")\n",
    "feat_table[\"dayofweek\"].cat.set_categories(dayofweek, inplace=True)\n",
    "\n",
    "binary_encoded = pd.get_dummies(df.city_name)\n",
    "city_name_fac = binary_encoded.columns\n",
    "df[city_name_fac] = binary_encoded\n",
    "\n",
    "binary_encoded = pd.get_dummies(df.signup_os)\n",
    "signup_os_fac = binary_encoded.columns\n",
    "df[signup_os_fac] = binary_encoded\n",
    "\n",
    "binary_encoded = pd.get_dummies(df.signup_channel)\n",
    "signup_channel_fac = binary_encoded.columns\n",
    "df[signup_channel_fac] = binary_encoded\n",
    "\n",
    "df.loc[df.bgc_date.isnull() == True, 'bgc_fac'] = 0\n",
    "df.loc[df.bgc_date.isnull() == False, 'bgc_fac'] = 1\n",
    "\n",
    "feat_table = feat_table.drop(['id', 'city_name', 'signup_channel', 'signup_os', 'signup_date', \\\n",
    "                              'bgc_date', 'vehicle_make', 'vehicle_model', 'vehicle_year', 'vehicle_added_date', \\\n",
    "                              'first_completed_date', 'ftc_fac'], axis = 1)\n",
    "feat_table.head()"
   ]
  },
  {
   "cell_type": "markdown",
   "metadata": {},
   "source": [
    "For interpretability, I will use logistic regression."
   ]
  },
  {
   "cell_type": "code",
   "execution_count": 123,
   "metadata": {},
   "outputs": [
    {
     "name": "stdout",
     "output_type": "stream",
     "text": [
      "Number of samples in training data: 43744\n",
      "Number of samples in validation data: 10937\n",
      "Training a logistic regression model..\n",
      "Model trained successfully.\n",
      "Training Accuracy: 63.6407278713 %\n",
      "Testing Accuracy: 64.0852153241 %\n",
      "TPR: 57.8219927096 %\n",
      "Coefficient weights:\n"
     ]
    },
    {
     "data": {
      "text/plain": [
       "array([[ 0.18030726, -0.18455719,  0.09964638,  0.31889307,  0.43066688,\n",
       "         0.26562415, -1.82649163,  0.43072486,  0.47597911, -0.68578996,\n",
       "         0.08801192,  0.69317449, -0.05880068]])"
      ]
     },
     "execution_count": 123,
     "metadata": {},
     "output_type": "execute_result"
    }
   ],
   "source": [
    "# Logistic Regression to predict bgc_fac\n",
    "from sklearn.model_selection import train_test_split;\n",
    "from sklearn import linear_model;\n",
    "from sklearn.metrics import confusion_matrix;\n",
    "from sklearn.feature_selection import SelectFromModel\n",
    "\n",
    "x_train, x_test, y_train, y_test = train_test_split(feat_table.loc[:, feat_table.columns != 'bgc_fac'],  \\\n",
    "                                                    feat_table['bgc_fac'], test_size=0.2);\n",
    "print ('Number of samples in training data:',len(x_train));\n",
    "print ('Number of samples in validation data:',len(x_test));\n",
    "\n",
    "logreg_model = linear_model.LogisticRegression(class_weight = 'balanced');\n",
    "print ('Training a logistic regression model..');\n",
    "logreg_model.fit(x_train, y_train);\n",
    "print ('Model trained successfully.');\n",
    "# model = SelectFromModel(logreg_model, prefit=True)\n",
    "# x_train_new = model.transform(x_train)\n",
    "\n",
    "training_accuracy=logreg_model.score(x_train,y_train);\n",
    "print ('Training Accuracy:',training_accuracy*100,'%');\n",
    "testing_accuracy=logreg_model.score(x_test,y_test);\n",
    "print ('Testing Accuracy:',testing_accuracy*100,'%');\n",
    "\n",
    "y_true = y_test;\n",
    "y_pred = logreg_model.predict(x_test);\n",
    "cm = pd.DataFrame(confusion_matrix(y_true, y_pred),columns=['Pred 0',1],index=['Act 0',1]);\n",
    "tprval = ['0']\n",
    "tprval.append((cm[1][1]/(cm['Pred 0'][1] + cm[1][1]))*100)\n",
    "print ('TPR:', (cm[1][1]/(cm['Pred 0'][1] + cm[1][1]))*100,'%');\n",
    "\n",
    "print('Coefficient weights:')\n",
    "logreg_model.coef_"
   ]
  },
  {
   "cell_type": "markdown",
   "metadata": {},
   "source": [
    "OBSERVATIONS:\n",
    "1. As is clear from above,the logistic regression allocates more than 0.05 weight to every feature.<br>\n",
    "2. The TPR has massively improved to 56%, which implies that if we predict that a driver will complete the first trip, there's more than half the chance now that they will.<br>\n",
    "\n",
    "THOUGHT: I used SVM and Random Forest to further see if performing non-linear classification significantly boosts accuracy, but since it didn't I am currently sticking to logistic regression."
   ]
  },
  {
   "cell_type": "code",
   "execution_count": 124,
   "metadata": {},
   "outputs": [
    {
     "data": {
      "text/html": [
       "<div>\n",
       "<style>\n",
       "    .dataframe thead tr:only-child th {\n",
       "        text-align: right;\n",
       "    }\n",
       "\n",
       "    .dataframe thead th {\n",
       "        text-align: left;\n",
       "    }\n",
       "\n",
       "    .dataframe tbody tr th {\n",
       "        vertical-align: top;\n",
       "    }\n",
       "</style>\n",
       "<table border=\"1\" class=\"dataframe\">\n",
       "  <thead>\n",
       "    <tr style=\"text-align: right;\">\n",
       "      <th></th>\n",
       "      <th>Strark</th>\n",
       "      <th>Wrouver</th>\n",
       "      <th>Berton</th>\n",
       "      <th>ios web</th>\n",
       "      <th>windows</th>\n",
       "      <th>android web</th>\n",
       "      <th>missing</th>\n",
       "      <th>mac</th>\n",
       "      <th>other</th>\n",
       "      <th>Paid</th>\n",
       "      <th>Organic</th>\n",
       "      <th>Referral</th>\n",
       "      <th>dayofweek</th>\n",
       "      <th>bgc_fac_pred</th>\n",
       "      <th>vehicle_added_fac</th>\n",
       "    </tr>\n",
       "  </thead>\n",
       "  <tbody>\n",
       "    <tr>\n",
       "      <th>0</th>\n",
       "      <td>1</td>\n",
       "      <td>0</td>\n",
       "      <td>0</td>\n",
       "      <td>1</td>\n",
       "      <td>0</td>\n",
       "      <td>0</td>\n",
       "      <td>0</td>\n",
       "      <td>0</td>\n",
       "      <td>0</td>\n",
       "      <td>1</td>\n",
       "      <td>0</td>\n",
       "      <td>0</td>\n",
       "      <td>5</td>\n",
       "      <td>0.0</td>\n",
       "      <td>0.0</td>\n",
       "    </tr>\n",
       "    <tr>\n",
       "      <th>1</th>\n",
       "      <td>1</td>\n",
       "      <td>0</td>\n",
       "      <td>0</td>\n",
       "      <td>0</td>\n",
       "      <td>1</td>\n",
       "      <td>0</td>\n",
       "      <td>0</td>\n",
       "      <td>0</td>\n",
       "      <td>0</td>\n",
       "      <td>1</td>\n",
       "      <td>0</td>\n",
       "      <td>0</td>\n",
       "      <td>3</td>\n",
       "      <td>0.0</td>\n",
       "      <td>0.0</td>\n",
       "    </tr>\n",
       "    <tr>\n",
       "      <th>2</th>\n",
       "      <td>0</td>\n",
       "      <td>1</td>\n",
       "      <td>0</td>\n",
       "      <td>0</td>\n",
       "      <td>1</td>\n",
       "      <td>0</td>\n",
       "      <td>0</td>\n",
       "      <td>0</td>\n",
       "      <td>0</td>\n",
       "      <td>0</td>\n",
       "      <td>1</td>\n",
       "      <td>0</td>\n",
       "      <td>0</td>\n",
       "      <td>1.0</td>\n",
       "      <td>0.0</td>\n",
       "    </tr>\n",
       "    <tr>\n",
       "      <th>3</th>\n",
       "      <td>0</td>\n",
       "      <td>0</td>\n",
       "      <td>1</td>\n",
       "      <td>0</td>\n",
       "      <td>0</td>\n",
       "      <td>1</td>\n",
       "      <td>0</td>\n",
       "      <td>0</td>\n",
       "      <td>0</td>\n",
       "      <td>0</td>\n",
       "      <td>0</td>\n",
       "      <td>1</td>\n",
       "      <td>4</td>\n",
       "      <td>1.0</td>\n",
       "      <td>1.0</td>\n",
       "    </tr>\n",
       "    <tr>\n",
       "      <th>4</th>\n",
       "      <td>1</td>\n",
       "      <td>0</td>\n",
       "      <td>0</td>\n",
       "      <td>0</td>\n",
       "      <td>0</td>\n",
       "      <td>1</td>\n",
       "      <td>0</td>\n",
       "      <td>0</td>\n",
       "      <td>0</td>\n",
       "      <td>0</td>\n",
       "      <td>0</td>\n",
       "      <td>1</td>\n",
       "      <td>6</td>\n",
       "      <td>1.0</td>\n",
       "      <td>1.0</td>\n",
       "    </tr>\n",
       "  </tbody>\n",
       "</table>\n",
       "</div>"
      ],
      "text/plain": [
       "   Strark  Wrouver  Berton  ios web  windows  android web  missing  mac  \\\n",
       "0       1        0       0        1        0            0        0    0   \n",
       "1       1        0       0        0        1            0        0    0   \n",
       "2       0        1       0        0        1            0        0    0   \n",
       "3       0        0       1        0        0            1        0    0   \n",
       "4       1        0       0        0        0            1        0    0   \n",
       "\n",
       "   other  Paid  Organic  Referral dayofweek  bgc_fac_pred  vehicle_added_fac  \n",
       "0      0     1        0         0         5           0.0                0.0  \n",
       "1      0     1        0         0         3           0.0                0.0  \n",
       "2      0     0        1         0         0           1.0                0.0  \n",
       "3      0     0        0         1         4           1.0                1.0  \n",
       "4      0     0        0         1         6           1.0                1.0  "
      ]
     },
     "execution_count": 124,
     "metadata": {},
     "output_type": "execute_result"
    }
   ],
   "source": [
    "# adding a predicted output from BGC prediction and the BGC delay as a factor\n",
    "feat_table['bgc_fac_pred'] = logreg_model.predict(feat_table.loc[:, feat_table.columns != 'bgc_fac'])\n",
    "\n",
    "feat_table['vehicle_added_date'] = df['vehicle_added_date']\n",
    "\n",
    "feat_table.loc[feat_table.vehicle_added_date.isnull() == True, 'vehicle_added_fac'] = 0\n",
    "feat_table.loc[feat_table.vehicle_added_date.isnull() == False, 'vehicle_added_fac'] = 1\n",
    "\n",
    "feat_table = feat_table.drop(['bgc_fac', 'vehicle_added_date'], axis = 1)\n",
    "feat_table.head()"
   ]
  },
  {
   "cell_type": "markdown",
   "metadata": {},
   "source": [
    "We will now attempt to model the prediction that the vehicle was added while using our prediction that the background check was done."
   ]
  },
  {
   "cell_type": "code",
   "execution_count": 125,
   "metadata": {},
   "outputs": [
    {
     "name": "stdout",
     "output_type": "stream",
     "text": [
      "Number of samples in training data: 43744\n",
      "Number of samples in validation data: 10937\n",
      "Training a logistic regression model..\n",
      "Model trained successfully.\n",
      "Training Accuracy: 69.033467447 %\n",
      "Testing Accuracy: 68.6568528847 %\n",
      "TPR: 61.1814345992 %\n",
      "Coefficient weights:\n"
     ]
    },
    {
     "data": {
      "text/plain": [
       "array([[ 0.074006  , -0.10982216, -0.01243949,  0.27728358,  0.3656005 ,\n",
       "         0.01122226, -1.68771181,  0.52561397,  0.45973585, -0.65970068,\n",
       "        -0.1785122 ,  0.78995722, -0.04376175,  0.1330757 ]])"
      ]
     },
     "execution_count": 125,
     "metadata": {},
     "output_type": "execute_result"
    }
   ],
   "source": [
    "# Logistic Regression to predict vehicle_added_fac\n",
    "x_train, x_test, y_train, y_test = train_test_split(feat_table.loc[:, feat_table.columns != 'vehicle_added_fac'],  \\\n",
    "                                                    feat_table['vehicle_added_fac'], test_size=0.2);\n",
    "print ('Number of samples in training data:',len(x_train));\n",
    "print ('Number of samples in validation data:',len(x_test));\n",
    "\n",
    "logreg_model = linear_model.LogisticRegression(class_weight = 'balanced');\n",
    "print ('Training a logistic regression model..');\n",
    "logreg_model.fit(x_train, y_train);\n",
    "print ('Model trained successfully.');\n",
    "\n",
    "training_accuracy=logreg_model.score(x_train,y_train);\n",
    "print ('Training Accuracy:',training_accuracy*100,'%');\n",
    "testing_accuracy=logreg_model.score(x_test,y_test);\n",
    "print ('Testing Accuracy:',testing_accuracy*100,'%');\n",
    "\n",
    "y_true = y_test;\n",
    "y_pred = logreg_model.predict(x_test);\n",
    "cm = pd.DataFrame(confusion_matrix(y_true, y_pred),columns=['Pred 0',1],index=['Act 0',1]);\n",
    "tprval.append((cm[1][1]/(cm['Pred 0'][1] + cm[1][1]))*100)\n",
    "print ('TPR:', (cm[1][1]/(cm['Pred 0'][1] + cm[1][1]))*100,'%');\n",
    "\n",
    "print('Coefficient weights:')\n",
    "logreg_model.coef_"
   ]
  },
  {
   "cell_type": "markdown",
   "metadata": {},
   "source": [
    "OBSERVATION:\n",
    "1. The TPR has improved, giving us an increase of 5% over the previous model. \n",
    "2. The above analysis indicate that vahicle addition is dependent more heavily on the OS and the channel rather than the cities. There doesn't seem to be a city-specific issue in vehicle addition.<br>\n",
    "3. The chances of additing vehicle are positively correlated to the referral channel, while the other two channels show negative correlation. This might be because the drivers already know someone who's experienced with the system and can guide them through the process."
   ]
  },
  {
   "cell_type": "code",
   "execution_count": 126,
   "metadata": {},
   "outputs": [
    {
     "data": {
      "text/html": [
       "<div>\n",
       "<style>\n",
       "    .dataframe thead tr:only-child th {\n",
       "        text-align: right;\n",
       "    }\n",
       "\n",
       "    .dataframe thead th {\n",
       "        text-align: left;\n",
       "    }\n",
       "\n",
       "    .dataframe tbody tr th {\n",
       "        vertical-align: top;\n",
       "    }\n",
       "</style>\n",
       "<table border=\"1\" class=\"dataframe\">\n",
       "  <thead>\n",
       "    <tr style=\"text-align: right;\">\n",
       "      <th></th>\n",
       "      <th>Strark</th>\n",
       "      <th>Wrouver</th>\n",
       "      <th>Berton</th>\n",
       "      <th>ios web</th>\n",
       "      <th>windows</th>\n",
       "      <th>android web</th>\n",
       "      <th>missing</th>\n",
       "      <th>mac</th>\n",
       "      <th>other</th>\n",
       "      <th>Paid</th>\n",
       "      <th>Organic</th>\n",
       "      <th>Referral</th>\n",
       "      <th>dayofweek</th>\n",
       "      <th>bgc_fac_pred</th>\n",
       "      <th>vehicle_added_fac_pred</th>\n",
       "      <th>ftc_fac</th>\n",
       "    </tr>\n",
       "  </thead>\n",
       "  <tbody>\n",
       "    <tr>\n",
       "      <th>0</th>\n",
       "      <td>1</td>\n",
       "      <td>0</td>\n",
       "      <td>0</td>\n",
       "      <td>1</td>\n",
       "      <td>0</td>\n",
       "      <td>0</td>\n",
       "      <td>0</td>\n",
       "      <td>0</td>\n",
       "      <td>0</td>\n",
       "      <td>1</td>\n",
       "      <td>0</td>\n",
       "      <td>0</td>\n",
       "      <td>5</td>\n",
       "      <td>0.0</td>\n",
       "      <td>0.0</td>\n",
       "      <td>0.0</td>\n",
       "    </tr>\n",
       "    <tr>\n",
       "      <th>1</th>\n",
       "      <td>1</td>\n",
       "      <td>0</td>\n",
       "      <td>0</td>\n",
       "      <td>0</td>\n",
       "      <td>1</td>\n",
       "      <td>0</td>\n",
       "      <td>0</td>\n",
       "      <td>0</td>\n",
       "      <td>0</td>\n",
       "      <td>1</td>\n",
       "      <td>0</td>\n",
       "      <td>0</td>\n",
       "      <td>3</td>\n",
       "      <td>0.0</td>\n",
       "      <td>0.0</td>\n",
       "      <td>0.0</td>\n",
       "    </tr>\n",
       "    <tr>\n",
       "      <th>2</th>\n",
       "      <td>0</td>\n",
       "      <td>1</td>\n",
       "      <td>0</td>\n",
       "      <td>0</td>\n",
       "      <td>1</td>\n",
       "      <td>0</td>\n",
       "      <td>0</td>\n",
       "      <td>0</td>\n",
       "      <td>0</td>\n",
       "      <td>0</td>\n",
       "      <td>1</td>\n",
       "      <td>0</td>\n",
       "      <td>0</td>\n",
       "      <td>1.0</td>\n",
       "      <td>1.0</td>\n",
       "      <td>0.0</td>\n",
       "    </tr>\n",
       "    <tr>\n",
       "      <th>3</th>\n",
       "      <td>0</td>\n",
       "      <td>0</td>\n",
       "      <td>1</td>\n",
       "      <td>0</td>\n",
       "      <td>0</td>\n",
       "      <td>1</td>\n",
       "      <td>0</td>\n",
       "      <td>0</td>\n",
       "      <td>0</td>\n",
       "      <td>0</td>\n",
       "      <td>0</td>\n",
       "      <td>1</td>\n",
       "      <td>4</td>\n",
       "      <td>1.0</td>\n",
       "      <td>1.0</td>\n",
       "      <td>1.0</td>\n",
       "    </tr>\n",
       "    <tr>\n",
       "      <th>4</th>\n",
       "      <td>1</td>\n",
       "      <td>0</td>\n",
       "      <td>0</td>\n",
       "      <td>0</td>\n",
       "      <td>0</td>\n",
       "      <td>1</td>\n",
       "      <td>0</td>\n",
       "      <td>0</td>\n",
       "      <td>0</td>\n",
       "      <td>0</td>\n",
       "      <td>0</td>\n",
       "      <td>1</td>\n",
       "      <td>6</td>\n",
       "      <td>1.0</td>\n",
       "      <td>1.0</td>\n",
       "      <td>0.0</td>\n",
       "    </tr>\n",
       "  </tbody>\n",
       "</table>\n",
       "</div>"
      ],
      "text/plain": [
       "   Strark  Wrouver  Berton  ios web  windows  android web  missing  mac  \\\n",
       "0       1        0       0        1        0            0        0    0   \n",
       "1       1        0       0        0        1            0        0    0   \n",
       "2       0        1       0        0        1            0        0    0   \n",
       "3       0        0       1        0        0            1        0    0   \n",
       "4       1        0       0        0        0            1        0    0   \n",
       "\n",
       "   other  Paid  Organic  Referral dayofweek  bgc_fac_pred  \\\n",
       "0      0     1        0         0         5           0.0   \n",
       "1      0     1        0         0         3           0.0   \n",
       "2      0     0        1         0         0           1.0   \n",
       "3      0     0        0         1         4           1.0   \n",
       "4      0     0        0         1         6           1.0   \n",
       "\n",
       "   vehicle_added_fac_pred  ftc_fac  \n",
       "0                     0.0      0.0  \n",
       "1                     0.0      0.0  \n",
       "2                     1.0      0.0  \n",
       "3                     1.0      1.0  \n",
       "4                     1.0      0.0  "
      ]
     },
     "execution_count": 126,
     "metadata": {},
     "output_type": "execute_result"
    }
   ],
   "source": [
    "# adding a predicted output from Vehicle Addtion prediction as a factor\n",
    "feat_table['vehicle_added_fac_pred'] = logreg_model.predict(feat_table.loc[:, feat_table.columns != 'vehicle_added_fac'])\n",
    "feat_table['first_completed_date'] = df['first_completed_date']\n",
    "feat_table['bgc_date'] = df['bgc_date']\n",
    "feat_table['vehicle_added_date'] = df['vehicle_added_date']\n",
    "\n",
    "feat_table.loc[df.first_completed_date.isnull() == True, 'ftc_fac'] = 0\n",
    "feat_table.loc[df.first_completed_date.isnull() == False, 'ftc_fac'] = 1\n",
    "\n",
    "feat_table = feat_table.drop(['vehicle_added_fac', 'first_completed_date', 'bgc_date', 'vehicle_added_date'], axis = 1)\n",
    "feat_table.head()"
   ]
  },
  {
   "cell_type": "markdown",
   "metadata": {},
   "source": [
    "We will now attempt to model the prediction that the first trip was completed while using our prediction that the background check was done and the vehicle was added."
   ]
  },
  {
   "cell_type": "code",
   "execution_count": 127,
   "metadata": {},
   "outputs": [
    {
     "name": "stdout",
     "output_type": "stream",
     "text": [
      "Number of samples in training data: 43744\n",
      "Number of samples in validation data: 10937\n",
      "Training a logistic regression model..\n",
      "Model trained successfully.\n",
      "Training Accuracy: 69.7627103146 %\n",
      "Testing Accuracy: 70.3209289568 %\n",
      "TPR: 66.8983492615 %\n",
      "Coefficient weights:\n"
     ]
    },
    {
     "data": {
      "text/plain": [
       "array([[ 0.00492317, -0.11815141,  0.0206018 ,  0.25344688,  0.51018764,\n",
       "        -0.03562519, -2.0279823 ,  0.61786646,  0.58948008, -0.7170285 ,\n",
       "        -0.19848525,  0.82288731, -0.04299086, -0.04995468,  0.15210498]])"
      ]
     },
     "execution_count": 127,
     "metadata": {},
     "output_type": "execute_result"
    }
   ],
   "source": [
    "# Logistic Regression to predict ftc_fac\n",
    "x_train, x_test, y_train, y_test = train_test_split(feat_table.loc[:, feat_table.columns != 'ftc_fac'],  \\\n",
    "                                                    feat_table['ftc_fac'], test_size=0.2);\n",
    "print ('Number of samples in training data:',len(x_train));\n",
    "print ('Number of samples in validation data:',len(x_test));\n",
    "\n",
    "logreg_model = linear_model.LogisticRegression(class_weight = 'balanced');\n",
    "print ('Training a logistic regression model..');\n",
    "logreg_model.fit(x_train, y_train);\n",
    "print ('Model trained successfully.');\n",
    "\n",
    "training_accuracy=logreg_model.score(x_train,y_train);\n",
    "print ('Training Accuracy:',training_accuracy*100,'%');\n",
    "testing_accuracy=logreg_model.score(x_test,y_test);\n",
    "print ('Testing Accuracy:',testing_accuracy*100,'%');\n",
    "\n",
    "y_true = y_test;\n",
    "y_pred = logreg_model.predict(x_test);\n",
    "cm = pd.DataFrame(confusion_matrix(y_true, y_pred),columns=['Pred 0',1],index=['Act 0',1]);\n",
    "tprval.append((cm[1][1]/(cm['Pred 0'][1] + cm[1][1]))*100)\n",
    "print ('TPR:', (cm[1][1]/(cm['Pred 0'][1] + cm[1][1]))*100,'%');\n",
    "\n",
    "print('Coefficient weights:')\n",
    "logreg_model.coef_"
   ]
  },
  {
   "cell_type": "markdown",
   "metadata": {},
   "source": [
    "OBSERVATION: \n",
    "1. There is a boost of another 5% TPR in this model. Although the accuracy is still less than the naive model, it is clear that this model is much more effective in identifying drivers who will actually start driving.\n",
    "2. The 3 most important features as per this model are:<br>\n",
    "a. The OS category 'missing' (simply because of high correlation with failure)<br>\n",
    "b. The channel category 'Referral' (demonstrating network effects)<br>\n",
    "c. The channel category 'Paid' (demonstrating that the conversion from paid channel to actual drives is poor)\n",
    "\n",
    "THOUGHT:\n",
    "I am running a Random Forest just to see the resulting AUC from an ensemble method."
   ]
  },
  {
   "cell_type": "code",
   "execution_count": 128,
   "metadata": {},
   "outputs": [
    {
     "name": "stdout",
     "output_type": "stream",
     "text": [
      "Number of samples in training data: 43744\n",
      "Number of samples in validation data: 10937\n",
      "Training a random forest model..\n",
      "Model trained successfully.\n",
      "Training Accuracy: 70.3022128749 %\n",
      "Testing Accuracy: 69.5803236719 %\n",
      "[ 0.01104371  0.01044942  0.01015253  0.01282911  0.0140006   0.02325983\n",
      "  0.08450716  0.01884279  0.01007783  0.06824129  0.04377804  0.14489924\n",
      "  0.12242506  0.17714723  0.24834614]\n"
     ]
    }
   ],
   "source": [
    "# Random Forest to predict ftc_fac\n",
    "x_train, x_test, y_train, y_test = train_test_split(feat_table.loc[:, feat_table.columns != 'ftc_fac'], \\\n",
    "                                                    feat_table['ftc_fac'], test_size=0.2)\n",
    "print ('Number of samples in training data:',len(x_train))\n",
    "print ('Number of samples in validation data:',len(x_test))\n",
    "\n",
    "randomforest_model = RandomForestClassifier(n_estimators=1000, class_weight='balanced')\n",
    "print ('Training a random forest model..')\n",
    "randomforest_model.fit(x_train, y_train)\n",
    "print ('Model trained successfully.')\n",
    "\n",
    "training_accuracy = randomforest_model.score(x_train,y_train)\n",
    "print ('Training Accuracy:',training_accuracy*100,'%')\n",
    "testing_accuracy=randomforest_model.score(x_test,y_test)\n",
    "print ('Testing Accuracy:',testing_accuracy*100,'%')\n",
    "\n",
    "y_score = randomforest_model.predict_proba(x_test)[:,1]\n",
    "fpr = dict()\n",
    "tpr = dict()\n",
    "\n",
    "fpr, tpr, _ = roc_curve(y_test, y_score)\n",
    "roc_auc = dict()\n",
    "roc_auc = auc(fpr, tpr)\n",
    "print(randomforest_model.feature_importances_)"
   ]
  },
  {
   "cell_type": "code",
   "execution_count": 129,
   "metadata": {},
   "outputs": [
    {
     "data": {
      "image/png": "[encoded data removed]",
      "text/plain": [
       "<matplotlib.figure.Figure at 0x1864118fe10>"
      ]
     },
     "metadata": {},
     "output_type": "display_data"
    }
   ],
   "source": [
    "# making the AUC plot\n",
    "plt.figure(figsize=(10,10))\n",
    "plt.plot([0, 1], [0, 1], 'k--')\n",
    "plt.xlim([-0.05, 1.0])\n",
    "plt.ylim([0.0, 1.05])\n",
    "plt.xlabel('False Positive Rate')\n",
    "plt.ylabel('True Positive Rate')\n",
    "plt.grid(True)\n",
    "plt.plot(fpr, tpr, label='AUC = {0}'.format(roc_auc))        \n",
    "plt.legend(loc=\"lower right\", shadow=True, fancybox =True) \n",
    "plt.show()"
   ]
  },
  {
   "cell_type": "markdown",
   "metadata": {},
   "source": [
    "The AUC thus obtained can be classified as 'fair'. The feature importance for random forest yeilds the following features with the highest importance:<br>\n",
    "a. The vehicle addition predictive factor<br>\n",
    "b. The background check predictive factor<br>\n",
    "c. The channel category 'Referral' (demonstrating network effects)"
   ]
  },
  {
   "cell_type": "markdown",
   "metadata": {},
   "source": [
    "The caveat of this approach is that:\n",
    "1. I am not utilizing all data points\n",
    "2. This is attempting to model a possibly non-linear parametric relationship using logistic regression\n",
    "3. In the case of the overall model, TPR is still quite low."
   ]
  },
  {
   "cell_type": "markdown",
   "metadata": {
    "colab": {
     "autoexec": {
      "startup": false,
      "wait_interval": 0
     }
    },
    "colab_type": "code",
    "collapsed": true,
    "id": "mpSQE_Gxsai4"
   },
   "source": [
    "In our objective of identifying the most important features to predict if a driver would actually complete the first trip, we have performed a step-wise analysis to understand which factors contribute in making the driver proceed with the next step of onboarding. This is a bit distorted due to the anomalies present in the data but I chose to ignore them since their numbers were small. \n",
    "\n",
    "One of the first decisions I took was to change the target metric due to class imbalance. This is important because in such a scenario where the negatives outweigh the positves almost 9:1, the models would always tend to predict that every entry will be negative. I thereby established **True Positive Rate (TPR)** as the desired metric.\n",
    "\n",
    "Also, after establishing the objective of the exercise, I understood that since we have to predict on the basis of sign-up stage, the following metrics are no longer useful:\n",
    "1. vehicle_make\n",
    "2. vehicle_model\n",
    "3. vehicle_year\n",
    "\n",
    "STEP 1: For predicting if the driver would reach background check stage:-\n",
    "The following features proved the most important:\n",
    "1. signup_os\n",
    "2. signup_channel\n",
    "3. city_name\n",
    "\n",
    "STEP 2: For predicting if the driver would reach vehicle addition stage:-\n",
    "The following features proved the most important:\n",
    "1. signup_os\n",
    "2. signup_channel\n",
    "3. city_name\n",
    "(It is quite possible that bgc_pred_fac was more important than cities but that weight wasn't assigned to it by logistic regression.)\n",
    "\n",
    "STEP 3: For predicting if the driver would reach first trip completion stage:-\n",
    "The following features proved the most important:\n",
    "1. vehicle_added_fac_pred\n",
    "2. bgc_fac_pred\n",
    "3. signup_channel"
   ]
  },
  {
   "cell_type": "code",
   "execution_count": 130,
   "metadata": {},
   "outputs": [
    {
     "data": {
      "image/png": "[encoded data removed]",
      "text/plain": [
       "<matplotlib.figure.Figure at 0x1863daa0cc0>"
      ]
     },
     "metadata": {},
     "output_type": "display_data"
    }
   ],
   "source": [
    "# plotting the increase in TPR\n",
    "models = ['naive','till BGC','till vehicle add','first trip completion']\n",
    "fig = plt.figure(figsize = (12,10))\n",
    "ax = fig.add_subplot(111)\n",
    "ax.set_title('Increase in TPR')\n",
    "ax.set_xlabel('Models')\n",
    "ax.set_ylabel('TPR (%)')\n",
    "y_pos = np.arange(4)\n",
    "plt.bar(y_pos, tprval, width = 0.9, align = 'center', alpha = 1)\n",
    "plt.xticks(y_pos, models)\n",
    "plt.setp(ax1.get_xticklabels(), rotation = 30, horizontalalignment = 'center')\n",
    "plt.show()"
   ]
  },
  {
   "cell_type": "markdown",
   "metadata": {},
   "source": [
    "INSIGHTS:\n",
    "1. Sign-ups have weekly trends\n",
    "2. There is a constant stream of sign-ups via each of the channels - Organic, Referral and Paid\n",
    "3. However, the conversion chances from the Referral channel are much higher\n",
    "4. If the operating system is missing, there's an overwhelming chance that the driver will not complete the first trip. This maybe pure correlation and does not imply any causation."
   ]
  },
  {
   "cell_type": "code",
   "execution_count": 436,
   "metadata": {},
   "outputs": [
    {
     "data": {
      "image/png": "[encoded data removed]",
      "text/plain": [
       "<matplotlib.figure.Figure at 0x18677a278d0>"
      ]
     },
     "metadata": {},
     "output_type": "display_data"
    }
   ],
   "source": [
    "# revisiting the sign-ups in the month of January 2016\n",
    "f = plt.figure(figsize = (20,10))\n",
    "ax = f.add_subplot(111)\n",
    "date = list(df.groupby('signup_date').groups.keys())\n",
    "su = df.groupby(['signup_date'])['id'].count()\n",
    "ax.bar(date, su)\n",
    "ax.set_title('Sign-ups')\n",
    "ax.set_xlabel('Dates')\n",
    "ax.set_ylabel('Number of drivers')\n",
    "plt.show()"
   ]
  },
  {
   "cell_type": "markdown",
   "metadata": {},
   "source": [
    "As observed before, the sign-up data shows some weekly seasonality, with a slight dip on weekends. Let's get rid of this seasonality."
   ]
  },
  {
   "cell_type": "code",
   "execution_count": 465,
   "metadata": {},
   "outputs": [
    {
     "data": {
      "image/png": "[encoded data removed]",
      "text/plain": [
       "<matplotlib.figure.Figure at 0x1867bf7bba8>"
      ]
     },
     "metadata": {},
     "output_type": "display_data"
    }
   ],
   "source": [
    "# removing weekly seasonality from the data\n",
    "diff = []\n",
    "for i in range(7, len(su_count)):\n",
    "    value = su_count[i] - su_count[i - 7]\n",
    "    diff.append(value)\n",
    "temp = date.copy()\n",
    "del temp[0:7]\n",
    "f = plt.figure(figsize = (20,10))\n",
    "plt.bar(temp, diff)\n",
    "plt.show()"
   ]
  },
  {
   "cell_type": "code",
   "execution_count": 438,
   "metadata": {},
   "outputs": [
    {
     "data": {
      "text/plain": [
       "(-0.95347514668055056,\n",
       " 0.76985292593834698,\n",
       " 7,\n",
       " 15,\n",
       " {'1%': -3.9644434814814815,\n",
       "  '10%': -2.6818144444444445,\n",
       "  '5%': -3.0849081481481484},\n",
       " 163.10359932786744)"
      ]
     },
     "execution_count": 438,
     "metadata": {},
     "output_type": "execute_result"
    }
   ],
   "source": [
    "# checking the series for stationarity\n",
    "result = sm.adfuller(diff)\n",
    "result"
   ]
  },
  {
   "cell_type": "markdown",
   "metadata": {},
   "source": [
    "Since the de-seasonalized time series is still non-stationary, I am taking the first-difference to stationarize it."
   ]
  },
  {
   "cell_type": "code",
   "execution_count": 466,
   "metadata": {},
   "outputs": [
    {
     "data": {
      "image/png": "[encoded data removed]",
      "text/plain": [
       "<matplotlib.figure.Figure at 0x1867bc11a90>"
      ]
     },
     "metadata": {},
     "output_type": "display_data"
    }
   ],
   "source": [
    "# taking first difference and plotting\n",
    "n = len(diff)\n",
    "diff2 = []\n",
    "for i in range(1,n):\n",
    "    diff2.append(diff[i] - diff[i-1])\n",
    "temp2 = temp.copy()\n",
    "del temp2[0]\n",
    "f = plt.figure(figsize = (20,10))\n",
    "plt.bar(temp2, diff2)\n",
    "plt.show()"
   ]
  },
  {
   "cell_type": "code",
   "execution_count": 440,
   "metadata": {},
   "outputs": [
    {
     "data": {
      "text/plain": [
       "(-3.4226531844625776,\n",
       " 0.010210444439325781,\n",
       " 9,\n",
       " 12,\n",
       " {'1%': -4.1378292824074077,\n",
       "  '10%': -2.7144769444444443,\n",
       "  '5%': -3.1549724074074077},\n",
       " 131.64158650193968)"
      ]
     },
     "execution_count": 440,
     "metadata": {},
     "output_type": "execute_result"
    }
   ],
   "source": [
    "# checking the series for stationarity\n",
    "result = sm.adfuller(diff2)\n",
    "result"
   ]
  },
  {
   "cell_type": "markdown",
   "metadata": {},
   "source": [
    "This time series is now stationary since the p-value of augumented Dickey-Fuller test < 0.05. We can now proceed with ARMA analysis."
   ]
  },
  {
   "cell_type": "code",
   "execution_count": 467,
   "metadata": {
    "scrolled": true
   },
   "outputs": [
    {
     "data": {
      "image/png": "[encoded data removed]",
      "text/plain": [
       "<matplotlib.figure.Figure at 0x1867bf844a8>"
      ]
     },
     "execution_count": 467,
     "metadata": {},
     "output_type": "execute_result"
    }
   ],
   "source": [
    "# plotting the ACF\n",
    "plot_acf(diff2)"
   ]
  },
  {
   "cell_type": "code",
   "execution_count": 468,
   "metadata": {},
   "outputs": [
    {
     "data": {
      "image/png": "[encoded data removed]",
      "text/plain": [
       "<matplotlib.figure.Figure at 0x1867bf84748>"
      ]
     },
     "execution_count": 468,
     "metadata": {},
     "output_type": "execute_result"
    }
   ],
   "source": [
    "# plotting the PACF\n",
    "plot_pacf(diff2)"
   ]
  },
  {
   "cell_type": "markdown",
   "metadata": {},
   "source": [
    "As is visible above, the ACF and PACF are both inconclusive.  Since we do not have enough observations, hence we will not be able to exploit the apparent periodicity in the ACF plot too. Let's check if we can find the best fit values for p and q by minimizing AIC and BIC:"
   ]
  },
  {
   "cell_type": "code",
   "execution_count": 443,
   "metadata": {},
   "outputs": [
    {
     "name": "stdout",
     "output_type": "stream",
     "text": [
      "(p, q) for minimum AIC:, (2, 2)\n",
      "(p, q) for minimum BIC:, (2, 2)\n"
     ]
    }
   ],
   "source": [
    "# obtaining p and q\n",
    "res = sm.arma_order_select_ic(diff2, ic=['aic', 'bic'], trend='nc')\n",
    "print('(p, q) for minimum AIC:,', res.aic_min_order)\n",
    "print('(p, q) for minimum BIC:,', res.bic_min_order)"
   ]
  },
  {
   "cell_type": "code",
   "execution_count": 444,
   "metadata": {},
   "outputs": [
    {
     "name": "stdout",
     "output_type": "stream",
     "text": [
      "Modelling completed.\n",
      "Forecasting completed.\n"
     ]
    }
   ],
   "source": [
    "# modelling and forecasting using SARIMAX for subsequent week\n",
    "numdays = 7\n",
    "mod = smax.SARIMAX(diff2, trend='n', order=(2,0,2))\n",
    "results = mod.fit()\n",
    "print('Modelling completed.')\n",
    "diff3 = []\n",
    "diff3.append(results.forecast(numdays))\n",
    "for i in range(numdays):\n",
    "    diff.append(diff[-1] + diff3[0][i])\n",
    "rev_su_count = su_count.copy()\n",
    "for i in range(23,23 + numdays):\n",
    "    rev_su_count.append(int(rev_su_count[i - numdays] + diff[i]))\n",
    "print('Forecasting completed.')"
   ]
  },
  {
   "cell_type": "code",
   "execution_count": 462,
   "metadata": {},
   "outputs": [
    {
     "data": {
      "image/png": "[encoded data removed]",
      "text/plain": [
       "<matplotlib.figure.Figure at 0x1867bf7bac8>"
      ]
     },
     "metadata": {},
     "output_type": "display_data"
    },
    {
     "name": "stdout",
     "output_type": "stream",
     "text": [
      "The number of sign-ups forecasted for next week: 10443\n"
     ]
    }
   ],
   "source": [
    "# plotting the forecasts for the subsequent week\n",
    "rev_date = date.copy()\n",
    "for i in range(numdays):\n",
    "    rev_date.append(rev_date[-1] + pd.to_timedelta(1, unit='d'))\n",
    "f = plt.figure(figsize = (20,10))\n",
    "ax = f.add_subplot(111)\n",
    "bars = ax.bar(rev_date, rev_su_count)\n",
    "ax.set_title('Sign-ups')\n",
    "ax.set_xlabel('Dates')\n",
    "ax.set_ylabel('Number of drivers')\n",
    "for i in range(30, 30 + numdays):\n",
    "    bars[i].set_color('g')\n",
    "plt.show()\n",
    "print('The number of sign-ups forecasted for next week:', np.sum(rev_su_count[30:30 + numdays]))"
   ]
  },
  {
   "cell_type": "markdown",
   "metadata": {},
   "source": [
    "The green bars denote the forecasted values of sign-ups for the next week. This can be extended to every week provided there is enough data to fit.\n",
    "\n",
    "For validation of this model, I would look at more sign-up data from previous months and years and verify the predictions. I would also look at more data points such as the following:\n",
    "1. The marketing spend and its relationship to the number of sign-ups\n",
    "2. The trend of increase in drivers\n",
    "3. The demographics of drivers signing-up"
   ]
  },
  {
   "cell_type": "code",
   "execution_count": null,
   "metadata": {
    "collapsed": true
   },
   "outputs": [],
   "source": []
  }
 ],
 "metadata": {
  "colab": {
   "collapsed_sections": [],
   "default_view": {},
   "name": "ATG_data_science_take_home_DS_analytics_track.ipynb",
   "provenance": [],
   "version": "0.3.2",
   "views": {}
  },
  "kernelspec": {
   "display_name": "Python 3",
   "language": "python",
   "name": "python3"
  },
  "language_info": {
   "codemirror_mode": {
    "name": "ipython",
    "version": 3
   },
   "file_extension": ".py",
   "mimetype": "text/x-python",
   "name": "python",
   "nbconvert_exporter": "python",
   "pygments_lexer": "ipython3",
   "version": "3.6.1"
  }
 },
 "nbformat": 4,
 "nbformat_minor": 1
}
